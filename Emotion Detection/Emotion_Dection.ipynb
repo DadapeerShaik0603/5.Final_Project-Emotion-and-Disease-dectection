{
 "cells": [
  {
   "cell_type": "markdown",
   "metadata": {},
   "source": [
    "# 1. Setting Up the Environment"
   ]
  },
  {
   "cell_type": "code",
   "execution_count": 12,
   "metadata": {},
   "outputs": [],
   "source": [
    "# %%\n",
    "# 1. Setting Up the Environment\n",
    "import torch\n",
    "import os\n",
    "import torch.nn as nn\n",
    "import numpy as np\n",
    "import pandas as pd\n",
    "import matplotlib.pyplot as plt\n",
    "import seaborn as sns\n",
    "import torch.nn.functional as F\n",
    "import torchvision.models as models\n",
    "import torchvision.transforms as transforms\n",
    "from torch.utils.data import DataLoader\n",
    "\n",
    "from sklearn.metrics import accuracy_score, precision_score, recall_score, f1_score\n",
    "\n",
    "# Device configuration\n",
    "device = torch.device('cuda' if torch.cuda.is_available() else 'cpu')\n"
   ]
  },
  {
   "cell_type": "markdown",
   "metadata": {},
   "source": [
    "# 2. Data Preparation"
   ]
  },
  {
   "cell_type": "code",
   "execution_count": 1,
   "metadata": {},
   "outputs": [
    {
     "name": "stdout",
     "output_type": "stream",
     "text": [
      "Train Directory : C:\\Users\\peer1\\OneDrive\\Documents\\Guvi_Projects\\Final Project\\Emotion Detection\\data\\train\n",
      "Validation Directory : C:\\Users\\peer1\\OneDrive\\Documents\\Guvi_Projects\\Final Project\\Emotion Detection\\data\\test\n",
      "Test Directory : C:\\Users\\peer1\\OneDrive\\Documents\\Guvi_Projects\\Final Project\\Emotion Detection\\data\\valid\n"
     ]
    }
   ],
   "source": [
    "# access train and validation directory\n",
    "train_dir = r\"C:\\Users\\peer1\\OneDrive\\Documents\\Guvi_Projects\\Final Project\\Emotion Detection\\data\\train\"\n",
    "val_dir = r\"C:\\Users\\peer1\\OneDrive\\Documents\\Guvi_Projects\\Final Project\\Emotion Detection\\data\\test\"\n",
    "test_dir = r\"C:\\Users\\peer1\\OneDrive\\Documents\\Guvi_Projects\\Final Project\\Emotion Detection\\data\\valid\"\n",
    "\n",
    "print(f\"Train Directory : {train_dir}\")\n",
    "print(f\"Validation Directory : {val_dir}\")\n",
    "print(f\"Test Directory : {test_dir}\")"
   ]
  },
  {
   "cell_type": "markdown",
   "metadata": {},
   "source": [
    "## **3. Exploratory Data Analysis**\n",
    "\n",
    "The general purpose of Exploratory Data Analysis (EDA) is to analyze data characteristics and find patterns, anomalies, and relationships between variables. In the EDA process, data cleaning is often carried out, such as handling missing values, removing duplicates, outliers, incorrect data, irrelevant data, imbalance data, and data transformation. This aims to obtain representative data so that the analysis results can provide useful insights for the business.\n",
    "\n",
    "In Computer Vision tasks, EDA aims to ensure that the image dataset is truly clean, including in terms of data relevance, the annotations are complete, the format is the same, and the directory structure is appropriate so that the dataset is ready to be used for Machine Learning or Deep Learning modeling. Furthermore, EDA aims to find out the distribution of the dataset so that later it can be decided whether data augmentation is needed or not.\n",
    "\n",
    "In this task, EDA is carried out to determine the dataset distribution, data format, and dataset samples. The dataset is considered clean because it has been prepared in a directory and is ready to be used for Computer Vision modeling."
   ]
  },
  {
   "cell_type": "code",
   "execution_count": 18,
   "metadata": {},
   "outputs": [
    {
     "name": "stdout",
     "output_type": "stream",
     "text": [
      "Total of Train Data Classes: 7 classes\n",
      "Total of Validation Data Classes: 7 classes\n",
      "Total of Test Data: 7 Classes\n"
     ]
    }
   ],
   "source": [
    "total_class_train = len(os.listdir(train_dir))\n",
    "total_class_val = len(os.listdir(val_dir))\n",
    "total_test = len(os.listdir(test_dir))\n",
    "\n",
    "print(f\"Total of Train Data Classes: {total_class_train} classes\")\n",
    "print(f\"Total of Validation Data Classes: {total_class_val} classes\")\n",
    "print(f\"Total of Test Data: {total_test} Classes\")"
   ]
  },
  {
   "cell_type": "code",
   "execution_count": 7,
   "metadata": {},
   "outputs": [],
   "source": [
    "# display data distribution\n",
    "def count_data_per_class(path):\n",
    "    classes = sorted(os.listdir(path))\n",
    "    class_counts = {}\n",
    "    for cls in classes:\n",
    "        class_path = os.path.join(path, cls)\n",
    "        class_counts[cls] = len(os.listdir(class_path))\n",
    "    return class_counts\n",
    "\n",
    "# calculate total data of each class\n",
    "train_class_counts = count_data_per_class(train_dir)\n",
    "val_class_counts = count_data_per_class(val_dir)\n",
    "\n",
    "# create dataframe class count\n",
    "train_counts_df = pd.DataFrame.from_dict(train_class_counts, orient=\"index\", columns=[\"Count\"])\n",
    "val_counts_df = pd.DataFrame.from_dict(val_class_counts, orient=\"index\", columns=[\"Count\"])"
   ]
  },
  {
   "cell_type": "code",
   "execution_count": 8,
   "metadata": {},
   "outputs": [
    {
     "name": "stdout",
     "output_type": "stream",
     "text": [
      "Total Image for Training: 28709 images\n",
      "Total Image for Validation: 7178 images\n"
     ]
    }
   ],
   "source": [
    "# total image for training and validation\n",
    "\n",
    "print(f\"Total Image for Training: {sum(train_class_counts.values())} images\")\n",
    "print(f\"Total Image for Validation: {sum(val_class_counts.values())} images\")"
   ]
  },
  {
   "cell_type": "code",
   "execution_count": 9,
   "metadata": {},
   "outputs": [
    {
     "data": {
      "text/html": [
       "<div>\n",
       "<style scoped>\n",
       "    .dataframe tbody tr th:only-of-type {\n",
       "        vertical-align: middle;\n",
       "    }\n",
       "\n",
       "    .dataframe tbody tr th {\n",
       "        vertical-align: top;\n",
       "    }\n",
       "\n",
       "    .dataframe thead th {\n",
       "        text-align: right;\n",
       "    }\n",
       "</style>\n",
       "<table border=\"1\" class=\"dataframe\">\n",
       "  <thead>\n",
       "    <tr style=\"text-align: right;\">\n",
       "      <th></th>\n",
       "      <th>Count</th>\n",
       "    </tr>\n",
       "  </thead>\n",
       "  <tbody>\n",
       "    <tr>\n",
       "      <th>angry</th>\n",
       "      <td>3995</td>\n",
       "    </tr>\n",
       "    <tr>\n",
       "      <th>disgust</th>\n",
       "      <td>436</td>\n",
       "    </tr>\n",
       "    <tr>\n",
       "      <th>fear</th>\n",
       "      <td>4097</td>\n",
       "    </tr>\n",
       "    <tr>\n",
       "      <th>happy</th>\n",
       "      <td>7215</td>\n",
       "    </tr>\n",
       "    <tr>\n",
       "      <th>neutral</th>\n",
       "      <td>4965</td>\n",
       "    </tr>\n",
       "    <tr>\n",
       "      <th>sad</th>\n",
       "      <td>4830</td>\n",
       "    </tr>\n",
       "    <tr>\n",
       "      <th>surprise</th>\n",
       "      <td>3171</td>\n",
       "    </tr>\n",
       "  </tbody>\n",
       "</table>\n",
       "</div>"
      ],
      "text/plain": [
       "          Count\n",
       "angry      3995\n",
       "disgust     436\n",
       "fear       4097\n",
       "happy      7215\n",
       "neutral    4965\n",
       "sad        4830\n",
       "surprise   3171"
      ]
     },
     "execution_count": 9,
     "metadata": {},
     "output_type": "execute_result"
    }
   ],
   "source": [
    "train_counts_df"
   ]
  },
  {
   "cell_type": "code",
   "execution_count": 10,
   "metadata": {},
   "outputs": [
    {
     "data": {
      "text/html": [
       "<div>\n",
       "<style scoped>\n",
       "    .dataframe tbody tr th:only-of-type {\n",
       "        vertical-align: middle;\n",
       "    }\n",
       "\n",
       "    .dataframe tbody tr th {\n",
       "        vertical-align: top;\n",
       "    }\n",
       "\n",
       "    .dataframe thead th {\n",
       "        text-align: right;\n",
       "    }\n",
       "</style>\n",
       "<table border=\"1\" class=\"dataframe\">\n",
       "  <thead>\n",
       "    <tr style=\"text-align: right;\">\n",
       "      <th></th>\n",
       "      <th>Count</th>\n",
       "    </tr>\n",
       "  </thead>\n",
       "  <tbody>\n",
       "    <tr>\n",
       "      <th>angry</th>\n",
       "      <td>958</td>\n",
       "    </tr>\n",
       "    <tr>\n",
       "      <th>disgust</th>\n",
       "      <td>111</td>\n",
       "    </tr>\n",
       "    <tr>\n",
       "      <th>fear</th>\n",
       "      <td>1024</td>\n",
       "    </tr>\n",
       "    <tr>\n",
       "      <th>happy</th>\n",
       "      <td>1774</td>\n",
       "    </tr>\n",
       "    <tr>\n",
       "      <th>neutral</th>\n",
       "      <td>1233</td>\n",
       "    </tr>\n",
       "    <tr>\n",
       "      <th>sad</th>\n",
       "      <td>1247</td>\n",
       "    </tr>\n",
       "    <tr>\n",
       "      <th>surprise</th>\n",
       "      <td>831</td>\n",
       "    </tr>\n",
       "  </tbody>\n",
       "</table>\n",
       "</div>"
      ],
      "text/plain": [
       "          Count\n",
       "angry       958\n",
       "disgust     111\n",
       "fear       1024\n",
       "happy      1774\n",
       "neutral    1233\n",
       "sad        1247\n",
       "surprise    831"
      ]
     },
     "execution_count": 10,
     "metadata": {},
     "output_type": "execute_result"
    }
   ],
   "source": [
    "val_counts_df"
   ]
  },
  {
   "cell_type": "code",
   "execution_count": 13,
   "metadata": {},
   "outputs": [
    {
     "data": {
      "image/png": "[encoded data removed]",
      "text/plain": [
       "<Figure size 2000x1000 with 1 Axes>"
      ]
     },
     "metadata": {},
     "output_type": "display_data"
    }
   ],
   "source": [
    "# display barplot for train data\n",
    "plt.figure(figsize=(20, 10))\n",
    "sns.barplot(data=train_counts_df, x=train_counts_df.index, y=\"Count\", color=\"lime\")\n",
    "plt.title(\"Total Data per Class in Train Data\")\n",
    "plt.xlabel(\"Emotions\")\n",
    "plt.ylabel(\"Count\")\n",
    "plt.xticks(rotation=90)\n",
    "\n",
    "# get the current axes to make the number label on top each bar\n",
    "ax = plt.gca()\n",
    "\n",
    "# add count labels on top of each bar\n",
    "for p in ax.patches:\n",
    "    ax.text(p.get_x()+p.get_width()/2., # the count label position is center of each bar (x-coordinate)\n",
    "            p.get_height()+10, # the count label offset of each bar (y-coordinate)\n",
    "            '{:1.0f}'.format(p.get_height()), # get number of each bar height as count label\n",
    "            ha=\"center\") # the orientation of count label text is center horizontal\n",
    "\n",
    "# saving plot\n",
    "plt.savefig(\"Total Data per Class in Train Data.jpg\")\n",
    "\n",
    "# show the plot\n",
    "plt.show()"
   ]
  },
  {
   "cell_type": "code",
   "execution_count": 14,
   "metadata": {},
   "outputs": [
    {
     "data": {
      "image/png": "[encoded data removed]",
      "text/plain": [
       "<Figure size 2000x1000 with 1 Axes>"
      ]
     },
     "metadata": {},
     "output_type": "display_data"
    }
   ],
   "source": [
    "# display barplot for validation data\n",
    "plt.figure(figsize=(20, 10))\n",
    "sns.barplot(data=val_counts_df, x=val_counts_df.index, y=\"Count\", color=\"cyan\")\n",
    "plt.title(\"Total Data per Class in Validation Data\")\n",
    "plt.xlabel(\"Emotions\")\n",
    "plt.ylabel(\"Count\")\n",
    "plt.xticks(rotation=90)\n",
    "\n",
    "# get the current axes to make the number label on top each bar\n",
    "ax = plt.gca()\n",
    "\n",
    "# add count labels on top of each bar\n",
    "for p in ax.patches:\n",
    "    ax.text(p.get_x()+p.get_width()/2., # the count label position is center of each bar (x-coordinate)\n",
    "            p.get_height()+3, # the count label offset of each bar (y-coordinate)\n",
    "            '{:1.0f}'.format(p.get_height()), # get number of each bar height as count label\n",
    "            ha=\"center\") # the orientation of count label text is center horizontal\n",
    "\n",
    "# saving plot\n",
    "plt.savefig(\"Total Data per Class in Validation Data.jpg\")\n",
    "\n",
    "# show the plot\n",
    "plt.show()"
   ]
  },
  {
   "cell_type": "markdown",
   "metadata": {},
   "source": [
    "## **4. Dataset Preparation and Preprocessing**"
   ]
  },
  {
   "cell_type": "code",
   "execution_count": 16,
   "metadata": {},
   "outputs": [],
   "source": [
    "\n",
    "transform = transforms.Compose([\n",
    "    transforms.Grayscale(num_output_channels=3),  \n",
    "    transforms.Resize((224, 224)),\n",
    "    transforms.ToTensor()\n",
    "])\n",
    "\n",
    "\n",
    "\n",
    "train_loader = DataLoader(train_dir, batch_size=32, shuffle=True)\n",
    "test_loader = DataLoader(val_dir, batch_size=32, shuffle=False)"
   ]
  },
  {
   "cell_type": "markdown",
   "metadata": {},
   "source": [
    "# 5. Model Training"
   ]
  },
  {
   "cell_type": "code",
   "execution_count": null,
   "metadata": {},
   "outputs": [],
   "source": [
    "criterion = nn.CrossEntropyLoss()\n",
    "\n",
    "def train_model(model, train_loader, optimizer, num_epochs):\n",
    "    model.train()\n",
    "    for epoch in range(num_epochs):\n",
    "        total_loss = 0\n",
    "        for images, labels in train_loader:\n",
    "            images, labels = images.to(device), labels.to(device)\n",
    "\n",
    "            # Forward pass\n",
    "            outputs = model(images)\n",
    "            loss = criterion(outputs, labels)\n",
    "\n",
    "            # Backward pass and optimization\n",
    "            optimizer.zero_grad()\n",
    "            loss.backward()\n",
    "            optimizer.step()\n",
    "\n",
    "            total_loss += loss.item()\n",
    "        print(f\"Epoch [{epoch + 1}/{num_epochs}], Loss: {total_loss / len(train_loader):.4f}\")\n",
    "\n",
    "def evaluate_model(model, test_loader):\n",
    "    model.eval()\n",
    "    correct = 0\n",
    "    total = 0\n",
    "    all_labels = []\n",
    "    all_preds = []\n",
    "    with torch.no_grad():\n",
    "        for images, labels in test_loader:\n",
    "            images, labels = images.to(device), labels.to(device)\n",
    "\n",
    "            outputs = model(images)\n",
    "            _, predicted = torch.max(outputs, 1)\n",
    "            total += labels.size(0)\n",
    "            correct += (predicted == labels).sum().item()\n",
    "            all_labels.extend(labels.cpu().numpy())\n",
    "            all_preds.extend(predicted.cpu().numpy())\n",
    "\n",
    "    accuracy = correct / total\n",
    "    precision = precision_score(all_labels, all_preds, average='weighted')\n",
    "    recall = recall_score(all_labels, all_preds, average='weighted')\n",
    "    f1 = f1_score(all_labels, all_preds, average='weighted')\n",
    "\n",
    "    print(f\"Validation Accuracy: {accuracy * 100:.2f}%\")\n",
    "    print(f\"Precision: {precision:.4f}, Recall: {recall:.4f}, F1 Score: {f1:.4f}\")\n",
    "\n",
    "    return accuracy, precision, recall, f1\n"
   ]
  },
  {
   "cell_type": "markdown",
   "metadata": {},
   "source": [
    "# Resenet Model"
   ]
  },
  {
   "cell_type": "code",
   "execution_count": 99,
   "metadata": {},
   "outputs": [
    {
     "name": "stderr",
     "output_type": "stream",
     "text": [
      "c:\\Users\\peer1\\AppData\\Local\\Programs\\Python\\Python312\\Lib\\site-packages\\torchvision\\models\\_utils.py:223: UserWarning: Arguments other than a weight enum or `None` for 'weights' are deprecated since 0.13 and may be removed in the future. The current behavior is equivalent to passing `weights=ResNet18_Weights.IMAGENET1K_V1`. You can also use `weights=ResNet18_Weights.DEFAULT` to get the most up-to-date weights.\n",
      "  warnings.warn(msg)\n"
     ]
    }
   ],
   "source": [
    "# Pre-trained ResNet model setup\n",
    "resnet_model = models.resnet18(pretrained=True)\n",
    "resnet_model.fc = nn.Linear(resnet_model.fc.in_features, 7)  # Adjust the output layer to match the number of emotion classes\n",
    "resnet_model = resnet_model.to(device)\n"
   ]
  },
  {
   "cell_type": "code",
   "execution_count": 100,
   "metadata": {},
   "outputs": [
    {
     "name": "stdout",
     "output_type": "stream",
     "text": [
      "Epoch [1/5], Loss: 1.2635\n",
      "Epoch [2/5], Loss: 1.0667\n",
      "Epoch [3/5], Loss: 0.9598\n",
      "Epoch [4/5], Loss: 0.8515\n",
      "Epoch [5/5], Loss: 0.7133\n",
      "Validation Accuracy: 63.15%\n",
      "Precision: 0.6460, Recall: 0.6315, F1 Score: 0.6352\n"
     ]
    }
   ],
   "source": [
    "# Training and saving the ResNet model\n",
    "resnet_optimizer = torch.optim.Adam(resnet_model.parameters(), lr=0.001)\n",
    "train_model(resnet_model, train_loader, resnet_optimizer, num_epochs=5)\n",
    "accuracy, precision, recall, f1 = evaluate_model(resnet_model, test_loader)\n",
    "torch.save(resnet_model.state_dict(), \"resnet_emotion_model.pth\")\n"
   ]
  },
  {
   "cell_type": "markdown",
   "metadata": {},
   "source": [
    "# GoogleNet Model"
   ]
  },
  {
   "cell_type": "code",
   "execution_count": 103,
   "metadata": {},
   "outputs": [
    {
     "name": "stderr",
     "output_type": "stream",
     "text": [
      "c:\\Users\\peer1\\AppData\\Local\\Programs\\Python\\Python312\\Lib\\site-packages\\torchvision\\models\\_utils.py:208: UserWarning: The parameter 'pretrained' is deprecated since 0.13 and may be removed in the future, please use 'weights' instead.\n",
      "  warnings.warn(\n",
      "c:\\Users\\peer1\\AppData\\Local\\Programs\\Python\\Python312\\Lib\\site-packages\\torchvision\\models\\_utils.py:223: UserWarning: Arguments other than a weight enum or `None` for 'weights' are deprecated since 0.13 and may be removed in the future. The current behavior is equivalent to passing `weights=GoogLeNet_Weights.IMAGENET1K_V1`. You can also use `weights=GoogLeNet_Weights.DEFAULT` to get the most up-to-date weights.\n",
      "  warnings.warn(msg)\n"
     ]
    }
   ],
   "source": [
    "# Pre-trained GoogLeNet model setup\n",
    "\n",
    "googlenet_model = models.googlenet(pretrained=True)\n",
    "googlenet_model.fc = nn.Linear(googlenet_model.fc.in_features, 7)  # Adjust the output layer to match the number of emotion classes\n",
    "googlenet_model = googlenet_model.to(device)\n"
   ]
  },
  {
   "cell_type": "code",
   "execution_count": 105,
   "metadata": {},
   "outputs": [
    {
     "name": "stdout",
     "output_type": "stream",
     "text": [
      "Epoch [1/10], Loss: 0.6427\n",
      "Epoch [2/10], Loss: 0.5448\n",
      "Epoch [3/10], Loss: 0.4592\n",
      "Epoch [4/10], Loss: 0.3812\n",
      "Epoch [5/10], Loss: 0.3148\n",
      "Epoch [6/10], Loss: 0.2705\n",
      "Epoch [7/10], Loss: 0.2212\n",
      "Epoch [8/10], Loss: 0.2015\n",
      "Epoch [9/10], Loss: 0.1793\n",
      "Epoch [10/10], Loss: 0.1499\n",
      "Validation Accuracy: 65.77%\n",
      "Precision: 0.6630, Recall: 0.6577, F1 Score: 0.6542\n"
     ]
    }
   ],
   "source": [
    "# Training and saving the GoogLeNet model\n",
    "googlenet_optimizer = torch.optim.Adam(googlenet_model.parameters(), lr=0.001)\n",
    "train_model(googlenet_model, train_loader, googlenet_optimizer, num_epochs=10)\n",
    "accuracy, precision, recall, f1 = evaluate_model(googlenet_model, test_loader)\n",
    "torch.save(googlenet_model.state_dict(), \"googlenet_emotion_model.pth\")\n"
   ]
  },
  {
   "cell_type": "markdown",
   "metadata": {},
   "source": [
    "# AlexNet Model"
   ]
  },
  {
   "cell_type": "code",
   "execution_count": 4,
   "metadata": {},
   "outputs": [
    {
     "name": "stderr",
     "output_type": "stream",
     "text": [
      "c:\\Users\\peer1\\AppData\\Local\\Programs\\Python\\Python312\\Lib\\site-packages\\torchvision\\models\\_utils.py:208: UserWarning: The parameter 'pretrained' is deprecated since 0.13 and may be removed in the future, please use 'weights' instead.\n",
      "  warnings.warn(\n",
      "c:\\Users\\peer1\\AppData\\Local\\Programs\\Python\\Python312\\Lib\\site-packages\\torchvision\\models\\_utils.py:223: UserWarning: Arguments other than a weight enum or `None` for 'weights' are deprecated since 0.13 and may be removed in the future. The current behavior is equivalent to passing `weights=AlexNet_Weights.IMAGENET1K_V1`. You can also use `weights=AlexNet_Weights.DEFAULT` to get the most up-to-date weights.\n",
      "  warnings.warn(msg)\n"
     ]
    }
   ],
   "source": [
    "#  Pre-trained AlexNet model setup\n",
    "\n",
    "alexnet_model = models.alexnet(pretrained=True)\n",
    "alexnet_model.classifier[6] = nn.Linear(alexnet_model.classifier[6].in_features, 7)  # Adjust the output layer to match the number of emotion classes\n",
    "alexnet_model = alexnet_model.to(device)\n"
   ]
  },
  {
   "cell_type": "code",
   "execution_count": 9,
   "metadata": {},
   "outputs": [
    {
     "name": "stdout",
     "output_type": "stream",
     "text": [
      "Epoch [1/10], Loss: 0.7001\n",
      "Epoch [2/10], Loss: 0.5046\n",
      "Epoch [3/10], Loss: 0.5035\n",
      "Epoch [4/10], Loss: 0.5035\n",
      "Epoch [5/10], Loss: 0.5030\n",
      "Epoch [6/10], Loss: 0.5038\n",
      "Epoch [7/10], Loss: 0.5038\n",
      "Epoch [8/10], Loss: 0.5032\n",
      "Epoch [9/10], Loss: 0.5029\n",
      "Epoch [10/10], Loss: 0.5033\n"
     ]
    },
    {
     "name": "stderr",
     "output_type": "stream",
     "text": [
      "c:\\Users\\peer1\\AppData\\Local\\Programs\\Python\\Python312\\Lib\\site-packages\\sklearn\\metrics\\_classification.py:1565: UndefinedMetricWarning: Precision is ill-defined and being set to 0.0 in labels with no predicted samples. Use `zero_division` parameter to control this behavior.\n",
      "  _warn_prf(average, modifier, f\"{metric.capitalize()} is\", len(result))\n"
     ]
    },
    {
     "name": "stdout",
     "output_type": "stream",
     "text": [
      "Validation Accuracy: 80.51%\n",
      "Precision: 0.6482, Recall: 0.8051, F1 Score: 0.7182\n"
     ]
    }
   ],
   "source": [
    "# Training and saving the AlexNet model\n",
    "alexnet_optimizer = torch.optim.Adam(alexnet_model.parameters(), lr=0.001)\n",
    "train_model(alexnet_model, train_loader, alexnet_optimizer, num_epochs=10)\n",
    "accuracy, precision, recall, f1 = evaluate_model(alexnet_model, test_loader)\n",
    "torch.save(alexnet_model.state_dict(), \"alexnet_emotion_model.pth\")\n"
   ]
  },
  {
   "cell_type": "markdown",
   "metadata": {},
   "source": [
    "# Building CustomCNN Model"
   ]
  },
  {
   "cell_type": "code",
   "execution_count": 62,
   "metadata": {},
   "outputs": [],
   "source": [
    "\n",
    "transform = transforms.Compose([\n",
    "    transforms.Grayscale(num_output_channels=1),  # Convert RGB to grayscale\n",
    "    transforms.Resize((48, 48)),\n",
    "    transforms.ToTensor()\n",
    "])\n",
    "\n",
    "train_loader = DataLoader(train_dir, batch_size=32, shuffle=True)\n",
    "test_loader = DataLoader(val_dir, batch_size=32, shuffle=False)"
   ]
  },
  {
   "cell_type": "code",
   "execution_count": 63,
   "metadata": {},
   "outputs": [],
   "source": [
    "import torch\n",
    "import torch.nn as nn\n",
    "import torch.nn.functional as F\n",
    "\n",
    "class CustomCNN(nn.Module):\n",
    "    def __init__(self):\n",
    "        super(CustomCNN, self).__init__()\n",
    "        \n",
    "        # 1st Convolution Layer\n",
    "        self.conv1 = nn.Conv2d(1, 64, kernel_size=3, padding=1)\n",
    "        self.bn1 = nn.BatchNorm2d(64)\n",
    "        self.pool1 = nn.MaxPool2d(kernel_size=2, stride=2)\n",
    "        self.drop1 = nn.Dropout(0.25)\n",
    "\n",
    "        # 2nd Convolution Layer\n",
    "        self.conv2 = nn.Conv2d(64, 128, kernel_size=5, padding=2)\n",
    "        self.bn2 = nn.BatchNorm2d(128)\n",
    "        self.pool2 = nn.MaxPool2d(kernel_size=2, stride=2)\n",
    "        self.drop2 = nn.Dropout(0.25)\n",
    "\n",
    "        # 3rd Convolution Layer\n",
    "        self.conv3 = nn.Conv2d(128, 512, kernel_size=3, padding=1)\n",
    "        self.bn3 = nn.BatchNorm2d(512)\n",
    "        self.pool3 = nn.MaxPool2d(kernel_size=2, stride=2)\n",
    "        self.drop3 = nn.Dropout(0.25)\n",
    "\n",
    "        # 4th Convolution Layer\n",
    "        self.conv4 = nn.Conv2d(512, 512, kernel_size=3, padding=1)\n",
    "        self.bn4 = nn.BatchNorm2d(512)\n",
    "        self.pool4 = nn.MaxPool2d(kernel_size=2, stride=2)\n",
    "        self.drop4 = nn.Dropout(0.25)\n",
    "\n",
    "        # Fully Connected Layers\n",
    "        self.fc1 = nn.Linear(512 * 3 * 3, 256)  # Adjust based on input size\n",
    "        self.bn_fc1 = nn.BatchNorm1d(256)\n",
    "        self.drop_fc1 = nn.Dropout(0.25)\n",
    "\n",
    "        self.fc2 = nn.Linear(256, 512)\n",
    "        self.bn_fc2 = nn.BatchNorm1d(512)\n",
    "        self.drop_fc2 = nn.Dropout(0.25)\n",
    "\n",
    "        self.fc3 = nn.Linear(512, 7)\n",
    "\n",
    "    def forward(self, x):\n",
    "        # Convolution + Activation + Pooling + Dropout\n",
    "        x = self.pool1(F.relu(self.bn1(self.conv1(x))))\n",
    "        x = self.drop1(x)\n",
    "\n",
    "        x = self.pool2(F.relu(self.bn2(self.conv2(x))))\n",
    "        x = self.drop2(x)\n",
    "\n",
    "        x = self.pool3(F.relu(self.bn3(self.conv3(x))))\n",
    "        x = self.drop3(x)\n",
    "\n",
    "        x = self.pool4(F.relu(self.bn4(self.conv4(x))))\n",
    "        x = self.drop4(x)\n",
    "\n",
    "        # Flatten the output\n",
    "        x = torch.flatten(x, start_dim=1)\n",
    "\n",
    "        # Fully Connected Layers\n",
    "        x = self.drop_fc1(F.relu(self.bn_fc1(self.fc1(x))))\n",
    "        x = self.drop_fc2(F.relu(self.bn_fc2(self.fc2(x))))\n",
    "\n",
    "        # Output layer\n",
    "        x = self.fc3(x)\n",
    "        return x\n",
    "\n",
    "custom_model = CustomCNN().to(device)\n"
   ]
  },
  {
   "cell_type": "code",
   "execution_count": 64,
   "metadata": {},
   "outputs": [
    {
     "name": "stdout",
     "output_type": "stream",
     "text": [
      "Epoch [1/30], Loss: 0.5349\n",
      "Epoch [2/30], Loss: 0.5175\n",
      "Epoch [3/30], Loss: 0.5133\n",
      "Epoch [4/30], Loss: 0.5125\n",
      "Epoch [5/30], Loss: 0.5110\n",
      "Epoch [6/30], Loss: 0.5108\n",
      "Epoch [7/30], Loss: 0.5086\n",
      "Epoch [8/30], Loss: 0.5094\n",
      "Epoch [9/30], Loss: 0.5078\n",
      "Epoch [10/30], Loss: 0.5063\n",
      "Epoch [11/30], Loss: 0.5067\n",
      "Epoch [12/30], Loss: 0.5058\n",
      "Epoch [13/30], Loss: 0.5056\n",
      "Epoch [14/30], Loss: 0.5047\n",
      "Epoch [15/30], Loss: 0.5042\n",
      "Epoch [16/30], Loss: 0.5040\n",
      "Epoch [17/30], Loss: 0.5040\n",
      "Epoch [18/30], Loss: 0.5034\n",
      "Epoch [19/30], Loss: 0.5031\n",
      "Epoch [20/30], Loss: 0.5030\n",
      "Epoch [21/30], Loss: 0.5030\n",
      "Epoch [22/30], Loss: 0.5022\n",
      "Epoch [23/30], Loss: 0.5025\n",
      "Epoch [24/30], Loss: 0.5015\n",
      "Epoch [25/30], Loss: 0.5020\n",
      "Epoch [26/30], Loss: 0.5017\n",
      "Epoch [27/30], Loss: 0.5009\n",
      "Epoch [28/30], Loss: 0.5010\n",
      "Epoch [29/30], Loss: 0.5001\n",
      "Epoch [30/30], Loss: 0.4998\n",
      "Validation Accuracy: 80.55%\n",
      "Precision: 0.6489, Recall: 0.8055, F1 Score: 0.7187\n"
     ]
    },
    {
     "name": "stderr",
     "output_type": "stream",
     "text": [
      "c:\\Users\\peer1\\AppData\\Local\\Programs\\Python\\Python312\\Lib\\site-packages\\sklearn\\metrics\\_classification.py:1565: UndefinedMetricWarning: Precision is ill-defined and being set to 0.0 in labels with no predicted samples. Use `zero_division` parameter to control this behavior.\n",
      "  _warn_prf(average, modifier, f\"{metric.capitalize()} is\", len(result))\n"
     ]
    }
   ],
   "source": [
    "# Training and saving the Custom CNN model\n",
    "custom_optimizer = torch.optim.Adam(custom_model.parameters(), lr=0.001)  # Adjust learning rate\n",
    "train_model(custom_model, train_loader, custom_optimizer, 30)\n",
    "\n",
    "accuracy, precision, recall, f1 = evaluate_model(custom_model, test_loader)\n",
    "torch.save(custom_model.state_dict(), \"custom_emotion_model.pth\")\n"
   ]
  }
 ],
 "metadata": {
  "kernelspec": {
   "display_name": "Python 3",
   "language": "python",
   "name": "python3"
  },
  "language_info": {
   "codemirror_mode": {
    "name": "ipython",
    "version": 3
   },
   "file_extension": ".py",
   "mimetype": "text/x-python",
   "name": "python",
   "nbconvert_exporter": "python",
   "pygments_lexer": "ipython3",
   "version": "3.12.8"
  }
 },
 "nbformat": 4,
 "nbformat_minor": 2
}
